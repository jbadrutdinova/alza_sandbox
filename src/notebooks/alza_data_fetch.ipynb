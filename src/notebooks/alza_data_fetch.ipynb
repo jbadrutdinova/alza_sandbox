{
 "cells": [
  {
   "cell_type": "code",
   "execution_count": 1,
   "metadata": {},
   "outputs": [
    {
     "name": "stderr",
     "output_type": "stream",
     "text": [
      "/opt/anaconda3/lib/python3.7/site-packages/requests/__init__.py:91: RequestsDependencyWarning: urllib3 (2.0.7) or chardet (3.0.4) doesn't match a supported version!\n",
      "  RequestsDependencyWarning)\n"
     ]
    }
   ],
   "source": [
    "# local imports\n",
    "import os\n",
    "import sys\n",
    "module_path = os.path.abspath(os.path.join('..'))\n",
    "if module_path not in sys.path:\n",
    "    sys.path.append(module_path)\n",
    "\n",
    "from selenium_alza_client import SeleniumAlzaClient\n",
    "from utils import get_project_root, read_json, save_json\n",
    "import logging\n",
    "\n",
    "logging.basicConfig(level=logging.INFO)\n",
    "logger = logging.getLogger('alza_data_fetch')"
   ]
  },
  {
   "cell_type": "code",
   "execution_count": 2,
   "metadata": {},
   "outputs": [],
   "source": [
    "# Hardcoded ID, look readme for more info.\n",
    "category_id = '18852759'\n",
    "\n",
    "raw_data_path = os.path.join(get_project_root(), f'data/raw_{category_id}.json')\n",
    "raw_data = []\n",
    "try:\n",
    "    raw_data = read_json(raw_data_path)\n",
    "except Exception as e:\n",
    "    raise Exception(f'Failed to find raw data for category id: {category_id}')"
   ]
  },
  {
   "cell_type": "code",
   "execution_count": 3,
   "metadata": {},
   "outputs": [
    {
     "name": "stderr",
     "output_type": "stream",
     "text": [
      "INFO:alza_data_fetch:Found 210 existing review items\n",
      "INFO:alza_data_fetch:Items to process 876\n"
     ]
    }
   ],
   "source": [
    "id_list = list(map(lambda q: q['id'], raw_data))\n",
    "\n",
    "review_stats_path = os.path.join(get_project_root(), f'data/review_stats_{category_id}.json')\n",
    "review_stats = []\n",
    "if os.path.isfile(review_stats_path):\n",
    "    review_stats = read_json(review_stats_path)\n",
    "    processed_ids_list = list(map(lambda q: q['id'], review_stats))\n",
    "    logger.info(f'Found {len(processed_ids_list)} existing review items')\n",
    "    id_list = [id for id in id_list if id not in processed_ids_list]\n",
    "\n",
    "logger.info(f'Items to process {len(id_list)}')\n"
   ]
  },
  {
   "cell_type": "code",
   "execution_count": 4,
   "metadata": {},
   "outputs": [
    {
     "name": "stderr",
     "output_type": "stream",
     "text": [
      "INFO:WDM:====== WebDriver manager ======\n",
      "INFO:WDM:Get LATEST chromedriver version for google-chrome\n",
      "INFO:WDM:Get LATEST chromedriver version for google-chrome\n",
      "INFO:WDM:Driver [/Users/juliabadrutdinova/.wdm/drivers/chromedriver/mac64/120.0.6099.109/chromedriver-mac-x64/chromedriver] found in cache\n",
      "INFO:alza_data_fetch:Review stats processed: 50\n",
      "INFO:alza_data_fetch:Review stats processed: 100\n",
      "INFO:alza_data_fetch:Review stats processed: 150\n",
      "INFO:alza_data_fetch:Review stats processed: 200\n",
      "INFO:alza_data_fetch:Review stats processed: 250\n",
      "INFO:alza_data_fetch:Review stats processed: 300\n",
      "INFO:alza_data_fetch:Review stats processed: 350\n",
      "INFO:alza_data_fetch:Review stats processed: 400\n",
      "INFO:alza_data_fetch:Review stats processed: 450\n",
      "INFO:alza_data_fetch:Review stats processed: 500\n",
      "INFO:alza_data_fetch:Review stats processed: 550\n",
      "INFO:alza_data_fetch:Review stats processed: 600\n",
      "INFO:alza_data_fetch:Review stats processed: 650\n",
      "INFO:alza_data_fetch:Review stats processed: 700\n",
      "INFO:alza_data_fetch:Review stats processed: 750\n",
      "INFO:alza_data_fetch:Review stats processed: 800\n",
      "INFO:alza_data_fetch:Review stats processed: 850\n",
      "INFO:alza_data_fetch:Final review stats count: 1086\n"
     ]
    }
   ],
   "source": [
    "def merge_review_stats(existing_stats, new_stats):\n",
    "    merged_stats = existing_stats.copy()\n",
    "    merged_stats.extend(new_stats)\n",
    "    return merged_stats\n",
    "\n",
    "with SeleniumAlzaClient({ 'delay': 5, 'continue_on_error_delay': 120 }) as alza_client:\n",
    "    batch_size = 50\n",
    "    processed_review_stats = []\n",
    "    for review_stat in alza_client.get_reviews_stats_generator(id_list):\n",
    "        processed_review_stats.append(review_stat)\n",
    "        if len(processed_review_stats) % batch_size == 0:\n",
    "            logger.info(f'Review stats processed: {len(processed_review_stats)}')\n",
    "            save_json(merge_review_stats(review_stats, processed_review_stats), review_stats_path)\n",
    "\n",
    "    review_stats = merge_review_stats(review_stats, processed_review_stats)\n",
    "    save_json(review_stats, review_stats_path)\n",
    "\n",
    "logger.info(f'Final review stats count: {len(review_stats)}')"
   ]
  }
 ],
 "metadata": {
  "kernelspec": {
   "display_name": "base",
   "language": "python",
   "name": "python3"
  },
  "language_info": {
   "codemirror_mode": {
    "name": "ipython",
    "version": 3
   },
   "file_extension": ".py",
   "mimetype": "text/x-python",
   "name": "python",
   "nbconvert_exporter": "python",
   "pygments_lexer": "ipython3",
   "version": "3.7.4"
  }
 },
 "nbformat": 4,
 "nbformat_minor": 2
}
